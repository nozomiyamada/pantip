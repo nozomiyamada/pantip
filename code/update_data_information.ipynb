{
 "cells": [
  {
   "cell_type": "code",
   "execution_count": 2,
   "metadata": {},
   "outputs": [],
   "source": [
    "import pandas as pd\n",
    "import os, glob"
   ]
  },
  {
   "cell_type": "code",
   "execution_count": 9,
   "metadata": {},
   "outputs": [
    {
     "name": "stdout",
     "output_type": "stream",
     "text": [
      "|pantip_random_2013.json|14890|80.9 MB|\n",
      "|pantip_random_2014.json|14852|74.7 MB|\n",
      "|pantip_random_2015.json|15926|71.7 MB|\n",
      "|pantip_random_2016.json|15829|75.2 MB|\n",
      "|pantip_random_2017.json|19165|78.7 MB|\n",
      "|pantip_random_2018.json|20143|76.2 MB|\n",
      "|pantip_random_2019.json|19644|73.1 MB|\n",
      "|pantip_random_2020.json|17793|69.1 MB|\n",
      "|pantip_random_2021.json|18601|68.2 MB|\n",
      "|pantip_random_2022.json|17602|75.9 MB|\n",
      "|pantip_random_2023.json|19957|72.0 MB|\n"
     ]
    }
   ],
   "source": [
    "jsons = sorted(glob.glob('data/**.json'))\n",
    "\n",
    "for j in jsons:\n",
    "    length = len(pd.read_json(j))\n",
    "    size = round(os.path.getsize(j)/1024/1024, 1)\n",
    "    print(f\"|{j.replace('data/','')}|{length}|{size} MB|\")"
   ]
  }
 ],
 "metadata": {
  "kernelspec": {
   "display_name": "Python 3",
   "language": "python",
   "name": "python3"
  },
  "language_info": {
   "codemirror_mode": {
    "name": "ipython",
    "version": 3
   },
   "file_extension": ".py",
   "mimetype": "text/x-python",
   "name": "python",
   "nbconvert_exporter": "python",
   "pygments_lexer": "ipython3",
   "version": "3.9.13"
  }
 },
 "nbformat": 4,
 "nbformat_minor": 2
}
